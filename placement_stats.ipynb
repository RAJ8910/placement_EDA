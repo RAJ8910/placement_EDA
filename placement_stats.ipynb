{
 "cells": [
  {
   "cell_type": "markdown",
   "id": "1517b530",
   "metadata": {},
   "source": [
    "# Firstly cleaning the data for analysis  "
   ]
  },
  {
   "cell_type": "code",
   "execution_count": 1,
   "id": "c8c9b087",
   "metadata": {},
   "outputs": [],
   "source": [
    "import pandas as pd\n",
    "import csv\n",
    "import statistics as stat\n",
    "import warnings\n",
    "warnings.filterwarnings('ignore')"
   ]
  },
  {
   "cell_type": "code",
   "execution_count": 2,
   "id": "ccd1b8c8",
   "metadata": {},
   "outputs": [],
   "source": [
    "df=pd.read_excel('placement_data2021.xlsx')"
   ]
  },
  {
   "cell_type": "code",
   "execution_count": 3,
   "id": "b849229a",
   "metadata": {},
   "outputs": [
    {
     "data": {
      "text/plain": [
       "(579, 7)"
      ]
     },
     "execution_count": 3,
     "metadata": {},
     "output_type": "execute_result"
    }
   ],
   "source": [
    "df.shape"
   ]
  },
  {
   "cell_type": "code",
   "execution_count": 4,
   "id": "3e8afa97",
   "metadata": {},
   "outputs": [],
   "source": [
    "df.columns=df.iloc[0]"
   ]
  },
  {
   "cell_type": "code",
   "execution_count": 5,
   "id": "df0aaec9",
   "metadata": {},
   "outputs": [],
   "source": [
    "df=df.drop([0],axis='rows')\n",
    "df=df.drop('Sr. No.',axis='columns')"
   ]
  },
  {
   "cell_type": "code",
   "execution_count": 6,
   "id": "0688f644",
   "metadata": {},
   "outputs": [
    {
     "data": {
      "text/html": [
       "<div>\n",
       "<style scoped>\n",
       "    .dataframe tbody tr th:only-of-type {\n",
       "        vertical-align: middle;\n",
       "    }\n",
       "\n",
       "    .dataframe tbody tr th {\n",
       "        vertical-align: top;\n",
       "    }\n",
       "\n",
       "    .dataframe thead th {\n",
       "        text-align: right;\n",
       "    }\n",
       "</style>\n",
       "<table border=\"1\" class=\"dataframe\">\n",
       "  <thead>\n",
       "    <tr style=\"text-align: right;\">\n",
       "      <th></th>\n",
       "      <th>Roll No.</th>\n",
       "      <th>Full Name of the Student</th>\n",
       "      <th>Course</th>\n",
       "      <th>Branch</th>\n",
       "      <th>Company Name</th>\n",
       "      <th>CTC in Lakhs per annum</th>\n",
       "    </tr>\n",
       "  </thead>\n",
       "  <tbody>\n",
       "    <tr>\n",
       "      <th>1</th>\n",
       "      <td>1811010</td>\n",
       "      <td>Mayank Ravindra Chowdhary</td>\n",
       "      <td>B.Tech</td>\n",
       "      <td>COMP</td>\n",
       "      <td>Accenture</td>\n",
       "      <td>4.5</td>\n",
       "    </tr>\n",
       "    <tr>\n",
       "      <th>2</th>\n",
       "      <td>1811087</td>\n",
       "      <td>Ayush Rajesh Khade</td>\n",
       "      <td>B.Tech</td>\n",
       "      <td>COMP</td>\n",
       "      <td>Accenture</td>\n",
       "      <td>4.5</td>\n",
       "    </tr>\n",
       "    <tr>\n",
       "      <th>3</th>\n",
       "      <td>1812028</td>\n",
       "      <td>Nidhi Dinesh Jajda</td>\n",
       "      <td>B.Tech</td>\n",
       "      <td>ETRX</td>\n",
       "      <td>Accenture</td>\n",
       "      <td>4.5</td>\n",
       "    </tr>\n",
       "    <tr>\n",
       "      <th>4</th>\n",
       "      <td>1812077</td>\n",
       "      <td>Shravani Manohar Dhote</td>\n",
       "      <td>B.Tech</td>\n",
       "      <td>ETRX</td>\n",
       "      <td>Accenture</td>\n",
       "      <td>4.5</td>\n",
       "    </tr>\n",
       "    <tr>\n",
       "      <th>5</th>\n",
       "      <td>1812086</td>\n",
       "      <td>Falguni Shailendra Kumud</td>\n",
       "      <td>B.Tech</td>\n",
       "      <td>ETRX</td>\n",
       "      <td>Accenture</td>\n",
       "      <td>4.5</td>\n",
       "    </tr>\n",
       "  </tbody>\n",
       "</table>\n",
       "</div>"
      ],
      "text/plain": [
       "0 Roll No.   Full Name of the Student  Course Branch Company Name  \\\n",
       "1  1811010  Mayank Ravindra Chowdhary  B.Tech   COMP    Accenture   \n",
       "2  1811087         Ayush Rajesh Khade  B.Tech   COMP    Accenture   \n",
       "3  1812028         Nidhi Dinesh Jajda  B.Tech   ETRX    Accenture   \n",
       "4  1812077     Shravani Manohar Dhote  B.Tech   ETRX    Accenture   \n",
       "5  1812086   Falguni Shailendra Kumud  B.Tech   ETRX    Accenture   \n",
       "\n",
       "0 CTC in Lakhs per annum  \n",
       "1                    4.5  \n",
       "2                    4.5  \n",
       "3                    4.5  \n",
       "4                    4.5  \n",
       "5                    4.5  "
      ]
     },
     "execution_count": 6,
     "metadata": {},
     "output_type": "execute_result"
    }
   ],
   "source": [
    "df.head()"
   ]
  },
  {
   "cell_type": "code",
   "execution_count": 7,
   "id": "625854fd",
   "metadata": {},
   "outputs": [],
   "source": [
    "df.to_csv('Placement_data.csv',index=False)"
   ]
  },
  {
   "cell_type": "code",
   "execution_count": 8,
   "id": "22ac91d2",
   "metadata": {},
   "outputs": [],
   "source": [
    "data=pd.read_csv('Placement_data.csv')"
   ]
  },
  {
   "cell_type": "code",
   "execution_count": 9,
   "id": "36aa390e",
   "metadata": {},
   "outputs": [
    {
     "data": {
      "text/html": [
       "<div>\n",
       "<style scoped>\n",
       "    .dataframe tbody tr th:only-of-type {\n",
       "        vertical-align: middle;\n",
       "    }\n",
       "\n",
       "    .dataframe tbody tr th {\n",
       "        vertical-align: top;\n",
       "    }\n",
       "\n",
       "    .dataframe thead th {\n",
       "        text-align: right;\n",
       "    }\n",
       "</style>\n",
       "<table border=\"1\" class=\"dataframe\">\n",
       "  <thead>\n",
       "    <tr style=\"text-align: right;\">\n",
       "      <th></th>\n",
       "      <th>Roll No.</th>\n",
       "      <th>Full Name of the Student</th>\n",
       "      <th>Course</th>\n",
       "      <th>Branch</th>\n",
       "      <th>Company Name</th>\n",
       "      <th>CTC in Lakhs per annum</th>\n",
       "    </tr>\n",
       "  </thead>\n",
       "  <tbody>\n",
       "    <tr>\n",
       "      <th>0</th>\n",
       "      <td>1811010</td>\n",
       "      <td>Mayank Ravindra Chowdhary</td>\n",
       "      <td>B.Tech</td>\n",
       "      <td>COMP</td>\n",
       "      <td>Accenture</td>\n",
       "      <td>4.5</td>\n",
       "    </tr>\n",
       "    <tr>\n",
       "      <th>1</th>\n",
       "      <td>1811087</td>\n",
       "      <td>Ayush Rajesh Khade</td>\n",
       "      <td>B.Tech</td>\n",
       "      <td>COMP</td>\n",
       "      <td>Accenture</td>\n",
       "      <td>4.5</td>\n",
       "    </tr>\n",
       "    <tr>\n",
       "      <th>2</th>\n",
       "      <td>1812028</td>\n",
       "      <td>Nidhi Dinesh Jajda</td>\n",
       "      <td>B.Tech</td>\n",
       "      <td>ETRX</td>\n",
       "      <td>Accenture</td>\n",
       "      <td>4.5</td>\n",
       "    </tr>\n",
       "    <tr>\n",
       "      <th>3</th>\n",
       "      <td>1812077</td>\n",
       "      <td>Shravani Manohar Dhote</td>\n",
       "      <td>B.Tech</td>\n",
       "      <td>ETRX</td>\n",
       "      <td>Accenture</td>\n",
       "      <td>4.5</td>\n",
       "    </tr>\n",
       "    <tr>\n",
       "      <th>4</th>\n",
       "      <td>1812086</td>\n",
       "      <td>Falguni Shailendra Kumud</td>\n",
       "      <td>B.Tech</td>\n",
       "      <td>ETRX</td>\n",
       "      <td>Accenture</td>\n",
       "      <td>4.5</td>\n",
       "    </tr>\n",
       "  </tbody>\n",
       "</table>\n",
       "</div>"
      ],
      "text/plain": [
       "   Roll No.   Full Name of the Student  Course Branch Company Name  \\\n",
       "0   1811010  Mayank Ravindra Chowdhary  B.Tech   COMP    Accenture   \n",
       "1   1811087         Ayush Rajesh Khade  B.Tech   COMP    Accenture   \n",
       "2   1812028         Nidhi Dinesh Jajda  B.Tech   ETRX    Accenture   \n",
       "3   1812077     Shravani Manohar Dhote  B.Tech   ETRX    Accenture   \n",
       "4   1812086   Falguni Shailendra Kumud  B.Tech   ETRX    Accenture   \n",
       "\n",
       "   CTC in Lakhs per annum  \n",
       "0                     4.5  \n",
       "1                     4.5  \n",
       "2                     4.5  \n",
       "3                     4.5  \n",
       "4                     4.5  "
      ]
     },
     "execution_count": 9,
     "metadata": {},
     "output_type": "execute_result"
    }
   ],
   "source": [
    "data.head()"
   ]
  },
  {
   "cell_type": "code",
   "execution_count": 10,
   "id": "1fb54cfe",
   "metadata": {},
   "outputs": [
    {
     "data": {
      "text/plain": [
       "array(['B.Tech', 'B. Tech', 'M.Tech'], dtype=object)"
      ]
     },
     "execution_count": 10,
     "metadata": {},
     "output_type": "execute_result"
    }
   ],
   "source": [
    "data.Course.unique()"
   ]
  },
  {
   "cell_type": "code",
   "execution_count": 11,
   "id": "eeaad585",
   "metadata": {},
   "outputs": [],
   "source": [
    "for i in range(len(data.Course)):\n",
    "    if data.Course[i]=='B. Tech':\n",
    "        data.Course[i]='B.Tech'"
   ]
  },
  {
   "cell_type": "code",
   "execution_count": 12,
   "id": "ea7b1a6f",
   "metadata": {},
   "outputs": [
    {
     "data": {
      "text/plain": [
       "array(['B.Tech', 'M.Tech'], dtype=object)"
      ]
     },
     "execution_count": 12,
     "metadata": {},
     "output_type": "execute_result"
    }
   ],
   "source": [
    "data.Course.unique()"
   ]
  },
  {
   "cell_type": "code",
   "execution_count": 13,
   "id": "aff7e69f",
   "metadata": {},
   "outputs": [],
   "source": [
    "def get_list(a):\n",
    "    l=[]\n",
    "    for i in range(578):\n",
    "        if data.Branch[i]==a:\n",
    "            l.append(float(data['CTC in Lakhs per annum'][i]))\n",
    "    return l"
   ]
  },
  {
   "cell_type": "code",
   "execution_count": 14,
   "id": "523cd42d",
   "metadata": {},
   "outputs": [],
   "source": [
    "import matplotlib.pyplot as plt\n",
    "%matplotlib inline"
   ]
  },
  {
   "cell_type": "markdown",
   "id": "ffc02ea4",
   "metadata": {},
   "source": [
    "### Sum of package offered to a branch"
   ]
  },
  {
   "cell_type": "code",
   "execution_count": 15,
   "id": "c16a809e",
   "metadata": {},
   "outputs": [
    {
     "data": {
      "text/plain": [
       "3988.8299999999936"
      ]
     },
     "execution_count": 15,
     "metadata": {},
     "output_type": "execute_result"
    }
   ],
   "source": [
    "sum(data['CTC in Lakhs per annum'])"
   ]
  },
  {
   "cell_type": "code",
   "execution_count": 16,
   "id": "ab0c0b00",
   "metadata": {},
   "outputs": [],
   "source": [
    "x=[sum(get_list(\"COMP\")),sum(get_list(\"ETRX\")),sum(get_list(\"EXTC\")),sum(get_list(\"IT\")),sum(get_list(\"MECH\"))]\n",
    "y=data.Branch.unique()\n",
    "y=y[0:5]"
   ]
  },
  {
   "cell_type": "code",
   "execution_count": 17,
   "id": "dd3c88fb",
   "metadata": {},
   "outputs": [
    {
     "data": {
      "text/plain": [
       "Text(0, 0.5, 'Total sum of package offered in lakhs(Rs)')"
      ]
     },
     "execution_count": 17,
     "metadata": {},
     "output_type": "execute_result"
    },
    {
     "data": {
      "image/png": "[encoded data removed]",
      "text/plain": [
       "<Figure size 720x432 with 1 Axes>"
      ]
     },
     "metadata": {
      "needs_background": "light"
     },
     "output_type": "display_data"
    }
   ],
   "source": [
    "plt.figure(figsize=(10, 6))\n",
    "plt.bar(y,x,color='blue',width=0.4)\n",
    "plt.xlabel('Branch')\n",
    "plt.ylabel('Total sum of package offered in lakhs(Rs)')"
   ]
  },
  {
   "cell_type": "markdown",
   "id": "2626f9b6",
   "metadata": {},
   "source": [
    "### Average package in a branch"
   ]
  },
  {
   "cell_type": "code",
   "execution_count": 18,
   "id": "fcf1e4a6",
   "metadata": {},
   "outputs": [],
   "source": [
    "x=[stat.mean(get_list(\"COMP\")),stat.mean(get_list(\"ETRX\")),stat.mean(get_list(\"EXTC\")),stat.mean(get_list(\"IT\")),stat.mean(get_list(\"MECH\"))]\n",
    "y=data.Branch.unique()\n",
    "y=y[0:5]"
   ]
  },
  {
   "cell_type": "code",
   "execution_count": 19,
   "id": "9f7607f4",
   "metadata": {},
   "outputs": [
    {
     "data": {
      "text/plain": [
       "Text(0, 0.5, 'Average package offered in lakhs(Rs)')"
      ]
     },
     "execution_count": 19,
     "metadata": {},
     "output_type": "execute_result"
    },
    {
     "data": {
      "image/png": "[encoded data removed]",
      "text/plain": [
       "<Figure size 720x432 with 1 Axes>"
      ]
     },
     "metadata": {
      "needs_background": "light"
     },
     "output_type": "display_data"
    }
   ],
   "source": [
    "plt.figure(figsize=(10, 6))\n",
    "plt.bar(y,x,color='blue',width=0.4)\n",
    "plt.xlabel('Branch')\n",
    "plt.ylabel('Average package offered in lakhs(Rs)')"
   ]
  },
  {
   "cell_type": "markdown",
   "id": "dd538a7c",
   "metadata": {},
   "source": [
    "### Average package comparison w.r.t different branch"
   ]
  },
  {
   "cell_type": "code",
   "execution_count": 20,
   "id": "b8ef10ab",
   "metadata": {},
   "outputs": [],
   "source": [
    "def avg_compare(a,b):\n",
    "    p=100*(stat.mean(get_list(a))-stat.mean(get_list(b)))/stat.mean(get_list(b))\n",
    "    if p>0:\n",
    "        return print('Average package of '+str(a)+' is '+str(abs(round(p,2)))+'% more than '+str(b))\n",
    "    else:\n",
    "        return print('Average package of '+str(a)+' is '+str(abs(round(p,2)))+'% less than '+str(b))"
   ]
  },
  {
   "cell_type": "code",
   "execution_count": 21,
   "id": "358a0196",
   "metadata": {},
   "outputs": [
    {
     "name": "stdout",
     "output_type": "stream",
     "text": [
      "Average package of COMP is 49.2% more than ETRX\n"
     ]
    }
   ],
   "source": [
    "avg_compare('COMP','ETRX')"
   ]
  },
  {
   "cell_type": "code",
   "execution_count": 22,
   "id": "dd42dd65",
   "metadata": {},
   "outputs": [
    {
     "name": "stdout",
     "output_type": "stream",
     "text": [
      "Average package of ETRX is 5.59% more than MECH\n"
     ]
    }
   ],
   "source": [
    "avg_compare('ETRX','MECH')"
   ]
  },
  {
   "cell_type": "markdown",
   "id": "3fbea551",
   "metadata": {},
   "source": [
    "### Distribution of students placed according to branch"
   ]
  },
  {
   "cell_type": "code",
   "execution_count": 23,
   "id": "84174c81",
   "metadata": {},
   "outputs": [
    {
     "name": "stdout",
     "output_type": "stream",
     "text": [
      "Number of companies visited campus 115\n"
     ]
    }
   ],
   "source": [
    "print('Number of companies visited campus '+str(len(data['Company Name'].unique())))"
   ]
  },
  {
   "cell_type": "code",
   "execution_count": 25,
   "id": "1f8f50c0",
   "metadata": {},
   "outputs": [
    {
     "data": {
      "text/plain": [
       "(578, 6)"
      ]
     },
     "execution_count": 25,
     "metadata": {},
     "output_type": "execute_result"
    }
   ],
   "source": [
    "data.shape"
   ]
  },
  {
   "cell_type": "code",
   "execution_count": 26,
   "id": "82d0c4e5",
   "metadata": {},
   "outputs": [],
   "source": [
    "y=[len(get_list(\"COMP\")),len(get_list(\"ETRX\")),len(get_list(\"EXTC\")),len(get_list(\"IT\")),len(get_list(\"MECH\"))]\n",
    "mylabels=['COMP','ETRX','EXTC','IT','MECH']"
   ]
  },
  {
   "cell_type": "code",
   "execution_count": 27,
   "id": "d3dadbfb",
   "metadata": {},
   "outputs": [
    {
     "data": {
      "image/png": "[encoded data removed]",
      "text/plain": [
       "<Figure size 720x504 with 1 Axes>"
      ]
     },
     "metadata": {},
     "output_type": "display_data"
    }
   ],
   "source": [
    "fig, ax = plt.subplots(figsize =(10, 7))\n",
    "ax.pie(y, labels = mylabels,shadow=True,autopct=lambda p: str(round(p * len(data['Company Name'].unique()) / 100))+'%',radius=0.85,explode=(0,0.11,0,0,0))\n",
    "ax.legend(title = \"Branch\")\n",
    "ax.set_title(\"Total 578 students were placed \")\n",
    "plt.show() "
   ]
  },
  {
   "cell_type": "code",
   "execution_count": null,
   "id": "3feb971e",
   "metadata": {},
   "outputs": [],
   "source": []
  },
  {
   "cell_type": "markdown",
   "id": "05c25e09",
   "metadata": {},
   "source": [
    "### List of companies that took students from a particular branch"
   ]
  },
  {
   "cell_type": "code",
   "execution_count": 53,
   "id": "c308f162",
   "metadata": {},
   "outputs": [],
   "source": [
    "def get_companies(x):\n",
    "    l=[]\n",
    "    for i in range(578):\n",
    "        if data.Branch[i]==x:\n",
    "                l.append(data['Company Name'][i])\n",
    "    return l"
   ]
  },
  {
   "cell_type": "code",
   "execution_count": 57,
   "id": "99f0e70a",
   "metadata": {},
   "outputs": [
    {
     "data": {
      "text/plain": [
       "44"
      ]
     },
     "execution_count": 57,
     "metadata": {},
     "output_type": "execute_result"
    }
   ],
   "source": [
    "len(set(get_companies('ETRX')))"
   ]
  },
  {
   "cell_type": "code",
   "execution_count": null,
   "id": "0936ee35",
   "metadata": {},
   "outputs": [],
   "source": []
  }
 ],
 "metadata": {
  "kernelspec": {
   "display_name": "Python 3 (ipykernel)",
   "language": "python",
   "name": "python3"
  },
  "language_info": {
   "codemirror_mode": {
    "name": "ipython",
    "version": 3
   },
   "file_extension": ".py",
   "mimetype": "text/x-python",
   "name": "python",
   "nbconvert_exporter": "python",
   "pygments_lexer": "ipython3",
   "version": "3.9.12"
  }
 },
 "nbformat": 4,
 "nbformat_minor": 5
}
